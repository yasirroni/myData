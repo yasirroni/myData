{
 "cells": [
  {
   "cell_type": "code",
   "execution_count": 1,
   "metadata": {},
   "outputs": [],
   "source": [
    "import pandas as pd\n",
    "import copy\n",
    "\n",
    "from sklearn.model_selection import train_test_split"
   ]
  },
  {
   "cell_type": "code",
   "execution_count": 2,
   "metadata": {},
   "outputs": [],
   "source": [
    "# specify data_name \n",
    "data_name = 'dataR2.csv'\n",
    "\n",
    "# specify split_size_list\n",
    "split_size_list = [0.1,0.2,0.3,0.4,0.5]\n",
    "\n",
    "# specify random_state\n",
    "random_state = 66"
   ]
  },
  {
   "cell_type": "code",
   "execution_count": 3,
   "metadata": {},
   "outputs": [
    {
     "output_type": "execute_result",
     "data": {
      "text/plain": "   Age        BMI  Glucose  Insulin      HOMA   Leptin  Adiponectin  Resistin  \\\n0   48  23.500000       70    2.707  0.467409   8.8071     9.702400   7.99585   \n1   83  20.690495       92    3.115  0.706897   8.8438     5.429285   4.06405   \n2   82  23.124670       91    4.498  1.009651  17.9393    22.432040   9.27715   \n3   68  21.367521       77    3.226  0.612725   9.8827     7.169560  12.76600   \n4   86  21.111111       92    3.549  0.805386   6.6994     4.819240  10.57635   \n\n     MCP.1  Classification  \n0  417.114               1  \n1  468.786               1  \n2  554.697               1  \n3  928.220               1  \n4  773.920               1  ",
      "text/html": "<div>\n<style scoped>\n    .dataframe tbody tr th:only-of-type {\n        vertical-align: middle;\n    }\n\n    .dataframe tbody tr th {\n        vertical-align: top;\n    }\n\n    .dataframe thead th {\n        text-align: right;\n    }\n</style>\n<table border=\"1\" class=\"dataframe\">\n  <thead>\n    <tr style=\"text-align: right;\">\n      <th></th>\n      <th>Age</th>\n      <th>BMI</th>\n      <th>Glucose</th>\n      <th>Insulin</th>\n      <th>HOMA</th>\n      <th>Leptin</th>\n      <th>Adiponectin</th>\n      <th>Resistin</th>\n      <th>MCP.1</th>\n      <th>Classification</th>\n    </tr>\n  </thead>\n  <tbody>\n    <tr>\n      <th>0</th>\n      <td>48</td>\n      <td>23.500000</td>\n      <td>70</td>\n      <td>2.707</td>\n      <td>0.467409</td>\n      <td>8.8071</td>\n      <td>9.702400</td>\n      <td>7.99585</td>\n      <td>417.114</td>\n      <td>1</td>\n    </tr>\n    <tr>\n      <th>1</th>\n      <td>83</td>\n      <td>20.690495</td>\n      <td>92</td>\n      <td>3.115</td>\n      <td>0.706897</td>\n      <td>8.8438</td>\n      <td>5.429285</td>\n      <td>4.06405</td>\n      <td>468.786</td>\n      <td>1</td>\n    </tr>\n    <tr>\n      <th>2</th>\n      <td>82</td>\n      <td>23.124670</td>\n      <td>91</td>\n      <td>4.498</td>\n      <td>1.009651</td>\n      <td>17.9393</td>\n      <td>22.432040</td>\n      <td>9.27715</td>\n      <td>554.697</td>\n      <td>1</td>\n    </tr>\n    <tr>\n      <th>3</th>\n      <td>68</td>\n      <td>21.367521</td>\n      <td>77</td>\n      <td>3.226</td>\n      <td>0.612725</td>\n      <td>9.8827</td>\n      <td>7.169560</td>\n      <td>12.76600</td>\n      <td>928.220</td>\n      <td>1</td>\n    </tr>\n    <tr>\n      <th>4</th>\n      <td>86</td>\n      <td>21.111111</td>\n      <td>92</td>\n      <td>3.549</td>\n      <td>0.805386</td>\n      <td>6.6994</td>\n      <td>4.819240</td>\n      <td>10.57635</td>\n      <td>773.920</td>\n      <td>1</td>\n    </tr>\n  </tbody>\n</table>\n</div>"
     },
     "metadata": {},
     "execution_count": 3
    }
   ],
   "source": [
    "# get df_data\n",
    "df_data=pd.read_csv(os.path.join(os.getcwd(),data_name))\n",
    "df_data.head()"
   ]
  },
  {
   "cell_type": "code",
   "execution_count": 4,
   "metadata": {},
   "outputs": [],
   "source": [
    "# specify predictors and criterion\n",
    "predictors = [\"Age\", \"BMI\", \"Glucose\", \"Insulin\", \"HOMA\", \"Leptin\", \"Adiponectin\", \"Resistin\", \"MCP.1\"]\n",
    "criterion = [\"Classification\"]"
   ]
  },
  {
   "cell_type": "code",
   "execution_count": 5,
   "metadata": {},
   "outputs": [],
   "source": [
    "x, y = df_data[predictors], df_data[criterion]"
   ]
  },
  {
   "cell_type": "code",
   "execution_count": 6,
   "metadata": {},
   "outputs": [
    {
     "output_type": "execute_result",
     "data": {
      "text/plain": "   Age        BMI  Glucose  Insulin      HOMA   Leptin  Adiponectin  Resistin  \\\n0   48  23.500000       70    2.707  0.467409   8.8071     9.702400   7.99585   \n1   83  20.690495       92    3.115  0.706897   8.8438     5.429285   4.06405   \n2   82  23.124670       91    4.498  1.009651  17.9393    22.432040   9.27715   \n3   68  21.367521       77    3.226  0.612725   9.8827     7.169560  12.76600   \n4   86  21.111111       92    3.549  0.805386   6.6994     4.819240  10.57635   \n\n     MCP.1  \n0  417.114  \n1  468.786  \n2  554.697  \n3  928.220  \n4  773.920  ",
      "text/html": "<div>\n<style scoped>\n    .dataframe tbody tr th:only-of-type {\n        vertical-align: middle;\n    }\n\n    .dataframe tbody tr th {\n        vertical-align: top;\n    }\n\n    .dataframe thead th {\n        text-align: right;\n    }\n</style>\n<table border=\"1\" class=\"dataframe\">\n  <thead>\n    <tr style=\"text-align: right;\">\n      <th></th>\n      <th>Age</th>\n      <th>BMI</th>\n      <th>Glucose</th>\n      <th>Insulin</th>\n      <th>HOMA</th>\n      <th>Leptin</th>\n      <th>Adiponectin</th>\n      <th>Resistin</th>\n      <th>MCP.1</th>\n    </tr>\n  </thead>\n  <tbody>\n    <tr>\n      <th>0</th>\n      <td>48</td>\n      <td>23.500000</td>\n      <td>70</td>\n      <td>2.707</td>\n      <td>0.467409</td>\n      <td>8.8071</td>\n      <td>9.702400</td>\n      <td>7.99585</td>\n      <td>417.114</td>\n    </tr>\n    <tr>\n      <th>1</th>\n      <td>83</td>\n      <td>20.690495</td>\n      <td>92</td>\n      <td>3.115</td>\n      <td>0.706897</td>\n      <td>8.8438</td>\n      <td>5.429285</td>\n      <td>4.06405</td>\n      <td>468.786</td>\n    </tr>\n    <tr>\n      <th>2</th>\n      <td>82</td>\n      <td>23.124670</td>\n      <td>91</td>\n      <td>4.498</td>\n      <td>1.009651</td>\n      <td>17.9393</td>\n      <td>22.432040</td>\n      <td>9.27715</td>\n      <td>554.697</td>\n    </tr>\n    <tr>\n      <th>3</th>\n      <td>68</td>\n      <td>21.367521</td>\n      <td>77</td>\n      <td>3.226</td>\n      <td>0.612725</td>\n      <td>9.8827</td>\n      <td>7.169560</td>\n      <td>12.76600</td>\n      <td>928.220</td>\n    </tr>\n    <tr>\n      <th>4</th>\n      <td>86</td>\n      <td>21.111111</td>\n      <td>92</td>\n      <td>3.549</td>\n      <td>0.805386</td>\n      <td>6.6994</td>\n      <td>4.819240</td>\n      <td>10.57635</td>\n      <td>773.920</td>\n    </tr>\n  </tbody>\n</table>\n</div>"
     },
     "metadata": {},
     "execution_count": 6
    }
   ],
   "source": [
    "x.head()"
   ]
  },
  {
   "cell_type": "code",
   "execution_count": 7,
   "metadata": {},
   "outputs": [
    {
     "output_type": "execute_result",
     "data": {
      "text/plain": "   Classification\n0               1\n1               1\n2               1\n3               1\n4               1",
      "text/html": "<div>\n<style scoped>\n    .dataframe tbody tr th:only-of-type {\n        vertical-align: middle;\n    }\n\n    .dataframe tbody tr th {\n        vertical-align: top;\n    }\n\n    .dataframe thead th {\n        text-align: right;\n    }\n</style>\n<table border=\"1\" class=\"dataframe\">\n  <thead>\n    <tr style=\"text-align: right;\">\n      <th></th>\n      <th>Classification</th>\n    </tr>\n  </thead>\n  <tbody>\n    <tr>\n      <th>0</th>\n      <td>1</td>\n    </tr>\n    <tr>\n      <th>1</th>\n      <td>1</td>\n    </tr>\n    <tr>\n      <th>2</th>\n      <td>1</td>\n    </tr>\n    <tr>\n      <th>3</th>\n      <td>1</td>\n    </tr>\n    <tr>\n      <th>4</th>\n      <td>1</td>\n    </tr>\n  </tbody>\n</table>\n</div>"
     },
     "metadata": {},
     "execution_count": 7
    }
   ],
   "source": [
    "y.head()"
   ]
  },
  {
   "cell_type": "code",
   "execution_count": 8,
   "metadata": {},
   "outputs": [
    {
     "output_type": "stream",
     "name": "stdout",
     "text": "Done!\n"
    }
   ],
   "source": [
    "# split\n",
    "for split_size in split_size_list:\n",
    "    x_train, x_test, y_train, y_test = train_test_split(x, y, test_size=split_size, random_state=random_state)\n",
    "    df_train = copy.deepcopy(x_train)\n",
    "    df_train[criterion[:]] = y_train\n",
    "    df_train.to_csv('train_'+str(split_size)+'_'+data_name,index=False)\n",
    "    df_test = copy.deepcopy(x_test)\n",
    "    df_test[criterion[:]] = y_test\n",
    "    df_test.to_csv('test_'+str(split_size)+'_'+data_name,index=False)\n",
    "print('Done!')\n"
   ]
  }
 ],
 "metadata": {
  "language_info": {
   "codemirror_mode": {
    "name": "ipython",
    "version": 3
   },
   "file_extension": ".py",
   "mimetype": "text/x-python",
   "name": "python",
   "nbconvert_exporter": "python",
   "pygments_lexer": "ipython3",
   "version": 3
  },
  "orig_nbformat": 2,
  "kernelspec": {
   "name": "python_defaultSpec_1596539777117",
   "display_name": "Python 3.7.4 64-bit"
  }
 },
 "nbformat": 4,
 "nbformat_minor": 2
}