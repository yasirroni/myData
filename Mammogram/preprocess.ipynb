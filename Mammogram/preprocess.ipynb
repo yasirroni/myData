{
 "cells": [
  {
   "cell_type": "markdown",
   "metadata": {},
   "source": [
    "# Preprocessing"
   ]
  },
  {
   "cell_type": "code",
   "execution_count": 1,
   "metadata": {},
   "outputs": [],
   "source": [
    "# import library\n",
    "import numpy as np\n",
    "import pandas as pd\n",
    "from sklearn.preprocessing import MinMaxScaler, StandardScaler, RobustScaler"
   ]
  },
  {
   "cell_type": "code",
   "execution_count": 2,
   "metadata": {},
   "outputs": [],
   "source": [
    "# import raw data\n",
    "test_name = 'test_0.2_dataR2.csv'\n",
    "train_name = 'train_0.2_dataR2.csv'\n",
    "\n",
    "# get df_data\n",
    "df_test = pd.read_csv(os.path.join(os.getcwd(),test_name))\n",
    "df_train = pd.read_csv(os.path.join(os.getcwd(),train_name))\n",
    "\n",
    "# specify predictors and criterion\n",
    "predictors = [\"Age\", \"BMI\", \"Glucose\", \"Insulin\", \"HOMA\", \"Leptin\", \"Adiponectin\", \"Resistin\", \"MCP.1\"]\n",
    "criterion = [\"Classification\"]\n",
    "\n",
    "# x and y\n",
    "x_test, y_test = df_test[predictors], df_test[criterion]\n",
    "x_train, y_train = df_train[predictors], df_train[criterion]"
   ]
  },
  {
   "cell_type": "markdown",
   "metadata": {},
   "source": [
    "## Rescaling with MinMaxScaler"
   ]
  },
  {
   "cell_type": "code",
   "execution_count": 3,
   "metadata": {},
   "outputs": [],
   "source": [
    "# setting scaler\n",
    "scaler=MinMaxScaler(feature_range=(0,1)).fit(x_train)"
   ]
  },
  {
   "cell_type": "code",
   "execution_count": 4,
   "metadata": {},
   "outputs": [],
   "source": [
    "# only x is rescaled\n",
    "rescaled_x_train=scaler.fit_transform(x_train)\n",
    "rescaled_x_test=scaler.fit_transform(x_test)"
   ]
  },
  {
   "cell_type": "code",
   "execution_count": 5,
   "metadata": {},
   "outputs": [
    {
     "output_type": "stream",
     "name": "stdout",
     "text": "Head rescaled_x_train [[0.523 0.534 0.56  0.253 0.211 0.216 0.237 0.136 0.531]\n [0.4   1.    0.326 0.076 0.051 0.492 0.083 0.109 0.509]\n [0.938 0.407 0.255 0.036 0.022 0.041 0.172 0.081 0.113]\n [0.431 0.615 0.191 0.496 0.243 0.29  0.127 0.267 0.435]\n [0.277 0.541 0.27  0.031 0.02  0.092 0.139 0.64  0.603]]\nHead rescaled_x_test [[0.352 0.    0.377 0.088 0.115 0.132 0.245 0.05  0.   ]\n [0.593 0.86  0.41  0.091 0.123 0.333 0.22  0.091 0.101]\n [0.241 0.431 0.361 0.038 0.062 1.    0.692 0.246 0.11 ]\n [0.685 0.574 0.311 0.395 0.407 0.813 0.421 0.012 0.078]\n [0.204 0.854 0.311 1.    1.    0.533 0.422 0.092 0.541]]\n"
    }
   ],
   "source": [
    "# show rescaling result\n",
    "np.set_printoptions(precision=3) #Setting precision for the output\n",
    "print('Head rescaled_x_train',rescaled_x_train[0:5,:])\n",
    "print('Head rescaled_x_test',rescaled_x_test[0:5,:])"
   ]
  },
  {
   "cell_type": "code",
   "execution_count": 6,
   "metadata": {},
   "outputs": [],
   "source": [
    "# save to csv\n",
    "df_rescaled_x_train = pd.DataFrame()\n",
    "df_rescaled_x_test = pd.DataFrame()\n",
    "for num,head in enumerate(predictors):\n",
    "    df_rescaled_x_train[head] = rescaled_x_train[:,num]\n",
    "    df_rescaled_x_test[head] = rescaled_x_test[:,num]\n",
    "df_rescaled_x_train[criterion[:]] = y_train\n",
    "df_rescaled_x_test[criterion[:]] = y_test\n",
    "df_rescaled_x_train.to_csv('MinMaxScaler_'+train_name,index=False)\n",
    "df_rescaled_x_test.to_csv('MinMaxScaler_'+test_name,index=False)"
   ]
  },
  {
   "cell_type": "markdown",
   "metadata": {},
   "source": [
    "## Rescaling with RobustScaler"
   ]
  },
  {
   "cell_type": "code",
   "execution_count": 7,
   "metadata": {},
   "outputs": [],
   "source": [
    "#setting scaler\n",
    "scaler=RobustScaler().fit(x_train)"
   ]
  },
  {
   "cell_type": "code",
   "execution_count": 8,
   "metadata": {},
   "outputs": [],
   "source": [
    "# only x is rescaled\n",
    "rescaled_x_train=scaler.fit_transform(x_train)\n",
    "rescaled_x_test=scaler.fit_transform(x_test)"
   ]
  },
  {
   "cell_type": "code",
   "execution_count": 9,
   "metadata": {},
   "outputs": [
    {
     "output_type": "stream",
     "name": "stdout",
     "text": "Head rescaled_x_train [[ 0.125  0.232  2.556  1.383  1.846  0.106  0.266  0.18   1.072]\n [-0.161  1.379  0.722  0.101  0.15   1.065 -0.553  0.013  0.985]\n [ 1.089 -0.079  0.167 -0.19  -0.15  -0.502 -0.075 -0.153 -0.567]\n [-0.089  0.432 -0.333  3.151  2.19   0.364 -0.319  0.963  0.695]\n [-0.446  0.249  0.278 -0.227 -0.171 -0.323 -0.256  3.208  1.352]]\nHead rescaled_x_test [[-0.346 -0.791  0.114 -0.265 -0.227 -0.352 -0.318 -0.515 -0.934]\n [ 0.296  0.54   0.343 -0.254 -0.204  0.069 -0.384 -0.396 -0.544]\n [-0.642 -0.124  0.    -0.447 -0.383  1.461  0.886  0.053 -0.506]\n [ 0.543  0.096 -0.343  0.851  0.628  1.069  0.157 -0.625 -0.633]\n [-0.741  0.531 -0.343  3.051  2.368  0.485  0.159 -0.395  1.161]]\n"
    }
   ],
   "source": [
    "# show rescaling result\n",
    "np.set_printoptions(precision=3) #Setting precision for the output\n",
    "print('Head rescaled_x_train',rescaled_x_train[0:5,:])\n",
    "print('Head rescaled_x_test',rescaled_x_test[0:5,:])"
   ]
  },
  {
   "cell_type": "code",
   "execution_count": 10,
   "metadata": {},
   "outputs": [],
   "source": [
    "# save to csv\n",
    "df_rescaled_x_train = pd.DataFrame()\n",
    "df_rescaled_x_test = pd.DataFrame()\n",
    "for num,head in enumerate(predictors):\n",
    "    df_rescaled_x_train[head] = rescaled_x_train[:,num]\n",
    "    df_rescaled_x_test[head] = rescaled_x_test[:,num]\n",
    "df_rescaled_x_train[criterion[:]] = y_train\n",
    "df_rescaled_x_test[criterion[:]] = y_test\n",
    "df_rescaled_x_train.to_csv('RobustScaler_'+train_name,index=False)\n",
    "df_rescaled_x_test.to_csv('RobustScaler_'+test_name,index=False)"
   ]
  },
  {
   "cell_type": "markdown",
   "metadata": {},
   "source": [
    "## Standardizing with StandardScaler"
   ]
  },
  {
   "cell_type": "code",
   "execution_count": 11,
   "metadata": {},
   "outputs": [],
   "source": [
    "#setting scaler\n",
    "scaler=StandardScaler().fit(x_train)"
   ]
  },
  {
   "cell_type": "code",
   "execution_count": 12,
   "metadata": {},
   "outputs": [],
   "source": [
    "# only x is rescaled\n",
    "rescaled_x_train=scaler.fit_transform(x_train)\n",
    "rescaled_x_test=scaler.fit_transform(x_test)"
   ]
  },
  {
   "cell_type": "code",
   "execution_count": 13,
   "metadata": {},
   "outputs": [
    {
     "output_type": "stream",
     "name": "stdout",
     "text": "Head rescaled_x_train [[ 0.052  0.362  1.647  0.536  0.681 -0.219 -0.071 -0.098  1.232]\n [-0.428  2.313  0.291 -0.375 -0.305  0.974 -0.834 -0.262  1.119]\n [ 1.674 -0.167 -0.12  -0.581 -0.479 -0.975 -0.389 -0.425 -0.903]\n [-0.308  0.703 -0.49   1.793  0.882  0.102 -0.616  0.674  0.741]\n [-0.909  0.391 -0.038 -0.608 -0.491 -0.753 -0.558  2.886  1.597]]\nHead rescaled_x_test [[-0.517 -1.645 -0.043 -0.562 -0.585 -0.85  -0.601 -0.983 -1.174]\n [ 0.449  1.132  0.128 -0.549 -0.552 -0.192 -0.702 -0.826 -0.78 ]\n [-0.962 -0.253 -0.128 -0.773 -0.807  1.981  1.23  -0.233 -0.742]\n [ 0.82   0.207 -0.383  0.731  0.635  1.37   0.12  -1.128 -0.87 ]\n [-1.111  1.113 -0.383  3.278  3.114  0.457  0.124 -0.824  0.941]]\n"
    }
   ],
   "source": [
    "# show rescaling result\n",
    "np.set_printoptions(precision=3) #Setting precision for the output\n",
    "print('Head rescaled_x_train',rescaled_x_train[0:5,:])\n",
    "print('Head rescaled_x_test',rescaled_x_test[0:5,:])"
   ]
  },
  {
   "cell_type": "code",
   "execution_count": 14,
   "metadata": {},
   "outputs": [],
   "source": [
    "# save to csv\n",
    "df_rescaled_x_train = pd.DataFrame()\n",
    "df_rescaled_x_test = pd.DataFrame()\n",
    "for num,head in enumerate(predictors):\n",
    "    df_rescaled_x_train[head] = rescaled_x_train[:,num]\n",
    "    df_rescaled_x_test[head] = rescaled_x_test[:,num]\n",
    "df_rescaled_x_train[criterion[:]] = y_train\n",
    "df_rescaled_x_test[criterion[:]] = y_test\n",
    "df_rescaled_x_train.to_csv('StandardScaler_'+train_name,index=False)\n",
    "df_rescaled_x_test.to_csv('StandardScaler_'+test_name,index=False)"
   ]
  }
 ],
 "metadata": {
  "language_info": {
   "codemirror_mode": {
    "name": "ipython",
    "version": 3
   },
   "file_extension": ".py",
   "mimetype": "text/x-python",
   "name": "python",
   "nbconvert_exporter": "python",
   "pygments_lexer": "ipython3",
   "version": 3
  },
  "orig_nbformat": 2,
  "kernelspec": {
   "name": "python_defaultSpec_1596549900599",
   "display_name": "Python 3.7.4 64-bit"
  }
 },
 "nbformat": 4,
 "nbformat_minor": 2
}